{
 "cells": [
  {
   "cell_type": "code",
   "execution_count": 9,
   "metadata": {},
   "outputs": [],
   "source": [
    "# import os, json\n",
    "# from tqdm import tqdm\n",
    "# import itertools \n",
    "\n",
    "# # #dir_names = ['train', 'test']\n",
    "# # dir_names = ['all_jsons']\n",
    "# dir_names = ['C:/Users/Abir Khan/Desktop/PCMC/9-8_json/']\n",
    "# ext = 'json'\n",
    "\n",
    "# def json_path_to_dic(json_path):\n",
    "#     dic = None\n",
    "#     with open(json_path, 'rb') as fp:\n",
    "#         dic = json.load(fp)\n",
    "#     return dic\n",
    "\n",
    "\n",
    "# def get_thing_class_distribution(dic, thing_class_counts):\n",
    "    \n",
    "#     for shape_dic in dic['shapes']:\n",
    "#         if shape_dic['label'] not in thing_class_counts:\n",
    "#             thing_class_counts[shape_dic['label']] = 0\n",
    "#         thing_class_counts[shape_dic['label']] += 1\n",
    "\n",
    "#     return thing_class_counts\n",
    "\n",
    "# def compare_json_and_img_name(img_file_name, json_file_name, json_path):\n",
    "#     json_name = json_file_name.split('.')[0]\n",
    "#     img_name = img_file_name.split('.')[0]\n",
    "\n",
    "#     if json_name != img_name:\n",
    "#         print(f\"[CRITICAL WARNING] {json_path} has different image name {img_file_name}\")\n",
    "    \n",
    "\n",
    "\n",
    "# thing_class_distribution = {}\n",
    "# for dir_name in dir_names:\n",
    "\n",
    "#     print(f'working on {dir_name} dir ...')\n",
    "#     for json_file_name in tqdm([f for f in os.listdir(dir_name) if f.split('.')[-1].lower() == ext.lower()]):\n",
    "#         try:\n",
    "#             path = f'{dir_name}/{json_file_name}'\n",
    "#             json_dic = json_path_to_dic(path)\n",
    "\n",
    "#             thing_class_distribution = get_thing_class_distribution(\n",
    "#                 dic=json_dic, \n",
    "#                 thing_class_counts=thing_class_distribution)\n",
    "\n",
    "#             compare_json_and_img_name(\n",
    "#                 img_file_name=json_dic['imagePath'], \n",
    "#                 json_file_name=json_file_name,\n",
    "#                 json_path=path\n",
    "#                 )\n",
    "#         except Exception as E:\n",
    "#             print (\"#\"*80)\n",
    "#             print (json_file_name)\n",
    "#             print (E)\n",
    "#             print (\"#\"*80)\n",
    "            "
   ]
  },
  {
   "cell_type": "code",
   "execution_count": 10,
   "metadata": {},
   "outputs": [
    {
     "name": "stdout",
     "output_type": "stream",
     "text": [
      "working on C:/Users/Abir Khan/Desktop/PCMC/9-8_json/ dir ...\n"
     ]
    },
    {
     "name": "stderr",
     "output_type": "stream",
     "text": [
      "  0%|▏                                                                                | 4/1379 [00:00<01:59, 11.52it/s]"
     ]
    },
    {
     "name": "stdout",
     "output_type": "stream",
     "text": [
      "[CRITICAL WARNING] C:/Users/Abir Khan/Desktop/PCMC/9-8_json//100.json has different image name Track_B-Sphere-779.jpg\n",
      "[CRITICAL WARNING] 100 has different image name Track_B-Sphere-779...Updateing file name Please wait...\n",
      "[CRITICAL WARNING] C:/Users/Abir Khan/Desktop/PCMC/9-8_json//101.json has different image name Track_C-Sphere-91.jpg\n",
      "[CRITICAL WARNING] 101 has different image name Track_C-Sphere-91...Updateing file name Please wait...\n",
      "[CRITICAL WARNING] C:/Users/Abir Khan/Desktop/PCMC/9-8_json//102.json has different image name Track_C-Sphere-92.jpg\n",
      "[CRITICAL WARNING] 102 has different image name Track_C-Sphere-92...Updateing file name Please wait...\n"
     ]
    },
    {
     "name": "stderr",
     "output_type": "stream",
     "text": [
      "\r",
      "  0%|▎                                                                                | 6/1379 [00:00<01:58, 11.57it/s]"
     ]
    },
    {
     "name": "stdout",
     "output_type": "stream",
     "text": [
      "[CRITICAL WARNING] C:/Users/Abir Khan/Desktop/PCMC/9-8_json//103.json has different image name Track_C-Sphere-93.jpg\n",
      "[CRITICAL WARNING] 103 has different image name Track_C-Sphere-93...Updateing file name Please wait...\n",
      "[CRITICAL WARNING] C:/Users/Abir Khan/Desktop/PCMC/9-8_json//104.json has different image name Track_C-Sphere-94.jpg\n",
      "[CRITICAL WARNING] 104 has different image name Track_C-Sphere-94...Updateing file name Please wait...\n",
      "[CRITICAL WARNING] C:/Users/Abir Khan/Desktop/PCMC/9-8_json//105.json has different image name Track_C-Sphere-96.jpg\n",
      "[CRITICAL WARNING] 105 has different image name Track_C-Sphere-96...Updateing file name Please wait...\n"
     ]
    },
    {
     "name": "stderr",
     "output_type": "stream",
     "text": [
      "  1%|▌                                                                               | 10/1379 [00:00<02:02, 11.20it/s]"
     ]
    },
    {
     "name": "stdout",
     "output_type": "stream",
     "text": [
      "[CRITICAL WARNING] C:/Users/Abir Khan/Desktop/PCMC/9-8_json//106.json has different image name Track_C-Sphere-95.jpg\n",
      "[CRITICAL WARNING] 106 has different image name Track_C-Sphere-95...Updateing file name Please wait...\n",
      "[CRITICAL WARNING] C:/Users/Abir Khan/Desktop/PCMC/9-8_json//107.json has different image name Track_C-Sphere-97.jpg\n",
      "[CRITICAL WARNING] 107 has different image name Track_C-Sphere-97...Updateing file name Please wait...\n",
      "[CRITICAL WARNING] C:/Users/Abir Khan/Desktop/PCMC/9-8_json//108.json has different image name Track_C-Sphere-98.jpg"
     ]
    },
    {
     "name": "stderr",
     "output_type": "stream",
     "text": [
      "\r",
      "  1%|▋                                                                               | 12/1379 [00:01<02:08, 10.63it/s]"
     ]
    },
    {
     "name": "stdout",
     "output_type": "stream",
     "text": [
      "\n",
      "[CRITICAL WARNING] 108 has different image name Track_C-Sphere-98...Updateing file name Please wait...\n",
      "[CRITICAL WARNING] C:/Users/Abir Khan/Desktop/PCMC/9-8_json//109.json has different image name Track_C-Sphere-99.jpg\n",
      "[CRITICAL WARNING] 109 has different image name Track_C-Sphere-99...Updateing file name Please wait...\n"
     ]
    },
    {
     "name": "stderr",
     "output_type": "stream",
     "text": [
      "  1%|▊                                                                               | 15/1379 [00:01<02:26,  9.28it/s]"
     ]
    },
    {
     "name": "stdout",
     "output_type": "stream",
     "text": [
      "[CRITICAL WARNING] C:/Users/Abir Khan/Desktop/PCMC/9-8_json//110.json has different image name Track_C-Sphere-100.jpg\n",
      "[CRITICAL WARNING] 110 has different image name Track_C-Sphere-100...Updateing file name Please wait...\n",
      "[CRITICAL WARNING] C:/Users/Abir Khan/Desktop/PCMC/9-8_json//111.json has different image name Track_C-Sphere-101.jpg\n",
      "[CRITICAL WARNING] 111 has different image name Track_C-Sphere-101...Updateing file name Please wait...\n"
     ]
    },
    {
     "name": "stderr",
     "output_type": "stream",
     "text": [
      "\r",
      "  1%|▉                                                                               | 16/1379 [00:01<02:31,  9.01it/s]"
     ]
    },
    {
     "name": "stdout",
     "output_type": "stream",
     "text": [
      "[CRITICAL WARNING] C:/Users/Abir Khan/Desktop/PCMC/9-8_json//112.json has different image name Track_C-Sphere-102.jpg\n",
      "[CRITICAL WARNING] 112 has different image name Track_C-Sphere-102...Updateing file name Please wait...\n"
     ]
    },
    {
     "name": "stderr",
     "output_type": "stream",
     "text": [
      "\r",
      "  1%|▉                                                                               | 17/1379 [00:01<03:10,  7.14it/s]"
     ]
    },
    {
     "name": "stdout",
     "output_type": "stream",
     "text": [
      "[CRITICAL WARNING] C:/Users/Abir Khan/Desktop/PCMC/9-8_json//113.json has different image name Track_C-Sphere-113.jpg\n",
      "[CRITICAL WARNING] 113 has different image name Track_C-Sphere-113...Updateing file name Please wait...\n",
      "[CRITICAL WARNING] C:/Users/Abir Khan/Desktop/PCMC/9-8_json//114.json has different image name Track_C-Sphere-114.jpg\n",
      "[CRITICAL WARNING] 114 has different image name Track_C-Sphere-114...Updateing file name Please wait...\n"
     ]
    },
    {
     "name": "stderr",
     "output_type": "stream",
     "text": [
      "  1%|█                                                                               | 19/1379 [00:02<03:38,  6.24it/s]"
     ]
    },
    {
     "name": "stdout",
     "output_type": "stream",
     "text": [
      "[CRITICAL WARNING] C:/Users/Abir Khan/Desktop/PCMC/9-8_json//115.json has different image name Track_C-Sphere-115.jpg\n",
      "[CRITICAL WARNING] 115 has different image name Track_C-Sphere-115...Updateing file name Please wait...\n",
      "[CRITICAL WARNING] C:/Users/Abir Khan/Desktop/PCMC/9-8_json//116.json has different image name Track_C-Sphere-116.jpg"
     ]
    },
    {
     "name": "stderr",
     "output_type": "stream",
     "text": [
      "\r",
      "  1%|█▏                                                                              | 20/1379 [00:02<03:29,  6.50it/s]"
     ]
    },
    {
     "name": "stdout",
     "output_type": "stream",
     "text": [
      "\n",
      "[CRITICAL WARNING] 116 has different image name Track_C-Sphere-116...Updateing file name Please wait...\n",
      "[CRITICAL WARNING] C:/Users/Abir Khan/Desktop/PCMC/9-8_json//117.json has different image name Track_C-Sphere-117.jpg\n",
      "[CRITICAL WARNING] 117 has different image name Track_C-Sphere-117...Updateing file name Please wait...\n"
     ]
    },
    {
     "name": "stderr",
     "output_type": "stream",
     "text": [
      "  2%|█▎                                                                              | 22/1379 [00:02<04:00,  5.65it/s]"
     ]
    },
    {
     "name": "stdout",
     "output_type": "stream",
     "text": [
      "[CRITICAL WARNING] C:/Users/Abir Khan/Desktop/PCMC/9-8_json//118.json has different image name Track_C-Sphere-118.jpg\n",
      "[CRITICAL WARNING] 118 has different image name Track_C-Sphere-118...Updateing file name Please wait...\n",
      "[CRITICAL WARNING] C:/Users/Abir Khan/Desktop/PCMC/9-8_json//119.json has different image name Track_C-Sphere-119.jpg\n",
      "[CRITICAL WARNING] 119 has different image name Track_C-Sphere-119...Updateing file name Please wait...\n"
     ]
    },
    {
     "name": "stderr",
     "output_type": "stream",
     "text": [
      "  2%|█▌                                                                              | 26/1379 [00:03<03:10,  7.11it/s]"
     ]
    },
    {
     "name": "stdout",
     "output_type": "stream",
     "text": [
      "[CRITICAL WARNING] C:/Users/Abir Khan/Desktop/PCMC/9-8_json//120.json has different image name Track_A-Sphere-107.jpg\n",
      "[CRITICAL WARNING] 120 has different image name Track_A-Sphere-107...Updateing file name Please wait...\n",
      "[CRITICAL WARNING] C:/Users/Abir Khan/Desktop/PCMC/9-8_json//121.json has different image name Track_K-Sphere-21.jpg\n",
      "[CRITICAL WARNING] 121 has different image name Track_K-Sphere-21...Updateing file name Please wait...\n"
     ]
    },
    {
     "name": "stderr",
     "output_type": "stream",
     "text": [
      "  2%|█▌                                                                              | 28/1379 [00:03<02:51,  7.87it/s]"
     ]
    },
    {
     "name": "stdout",
     "output_type": "stream",
     "text": [
      "[CRITICAL WARNING] C:/Users/Abir Khan/Desktop/PCMC/9-8_json//122.json has different image name Track_K-Sphere-110.jpg\n",
      "[CRITICAL WARNING] 122 has different image name Track_K-Sphere-110...Updateing file name Please wait...\n",
      "[CRITICAL WARNING] C:/Users/Abir Khan/Desktop/PCMC/9-8_json//123.json has different image name Track_K-Sphere-111.jpg\n",
      "[CRITICAL WARNING] 123 has different image name Track_K-Sphere-111...Updateing file name Please wait...\n"
     ]
    },
    {
     "name": "stderr",
     "output_type": "stream",
     "text": [
      "\r",
      "  2%|█▋                                                                              | 29/1379 [00:03<02:41,  8.34it/s]"
     ]
    },
    {
     "name": "stdout",
     "output_type": "stream",
     "text": [
      "[CRITICAL WARNING] C:/Users/Abir Khan/Desktop/PCMC/9-8_json//124.json has different image name Track_K-Sphere-112.jpg\n",
      "[CRITICAL WARNING] 124 has different image name Track_K-Sphere-112...Updateing file name Please wait...\n",
      "[CRITICAL WARNING] C:/Users/Abir Khan/Desktop/PCMC/9-8_json//125.json has different image name Track_A-Sphere-1.jpg\n",
      "[CRITICAL WARNING] 125 has different image name Track_A-Sphere-1...Updateing file name Please wait...\n"
     ]
    },
    {
     "name": "stderr",
     "output_type": "stream",
     "text": [
      "\r",
      "  2%|█▊                                                                              | 31/1379 [00:03<02:41,  8.32it/s]"
     ]
    },
    {
     "name": "stdout",
     "output_type": "stream",
     "text": [
      "[CRITICAL WARNING] C:/Users/Abir Khan/Desktop/PCMC/9-8_json//126.json has different image name Track_A-Sphere-10.jpg\n",
      "[CRITICAL WARNING] 126 has different image name Track_A-Sphere-10...Updateing file name Please wait...\n",
      "[CRITICAL WARNING] C:/Users/Abir Khan/Desktop/PCMC/9-8_json//127.json has different image name Track_A-Sphere-11.jpg\n",
      "[CRITICAL WARNING] 127 has different image name Track_A-Sphere-11...Updateing file name Please wait...\n"
     ]
    },
    {
     "name": "stderr",
     "output_type": "stream",
     "text": [
      "  2%|█▉                                                                              | 33/1379 [00:04<02:44,  8.16it/s]"
     ]
    },
    {
     "name": "stdout",
     "output_type": "stream",
     "text": [
      "[CRITICAL WARNING] C:/Users/Abir Khan/Desktop/PCMC/9-8_json//128.json has different image name Track_A-Sphere-13.jpg\n",
      "[CRITICAL WARNING] 128 has different image name Track_A-Sphere-13...Updateing file name Please wait...\n",
      "[CRITICAL WARNING] C:/Users/Abir Khan/Desktop/PCMC/9-8_json//129.json has different image name Track_A-Sphere-100.jpg\n",
      "[CRITICAL WARNING] 129 has different image name Track_A-Sphere-100...Updateing file name Please wait...\n"
     ]
    },
    {
     "name": "stderr",
     "output_type": "stream",
     "text": [
      "  3%|██                                                                              | 36/1379 [00:04<03:23,  6.60it/s]"
     ]
    },
    {
     "name": "stdout",
     "output_type": "stream",
     "text": [
      "[CRITICAL WARNING] C:/Users/Abir Khan/Desktop/PCMC/9-8_json//130.json has different image name Track_A-Sphere-101.jpg\n",
      "[CRITICAL WARNING] 130 has different image name Track_A-Sphere-101...Updateing file name Please wait...\n"
     ]
    },
    {
     "name": "stderr",
     "output_type": "stream",
     "text": [
      "\r",
      "  3%|██▏                                                                             | 37/1379 [00:04<03:57,  5.64it/s]"
     ]
    },
    {
     "name": "stdout",
     "output_type": "stream",
     "text": [
      "[CRITICAL WARNING] C:/Users/Abir Khan/Desktop/PCMC/9-8_json//131.json has different image name Track_A-Sphere-102.jpg\n",
      "[CRITICAL WARNING] 131 has different image name Track_A-Sphere-102...Updateing file name Please wait...\n",
      "[CRITICAL WARNING] C:/Users/Abir Khan/Desktop/PCMC/9-8_json//132.json has different image name Track_A-Sphere-103.jpg\n",
      "[CRITICAL WARNING] 132 has different image name Track_A-Sphere-103...Updateing file name Please wait...\n"
     ]
    },
    {
     "name": "stderr",
     "output_type": "stream",
     "text": [
      "  3%|██▎                                                                             | 39/1379 [00:05<04:35,  4.86it/s]"
     ]
    },
    {
     "name": "stdout",
     "output_type": "stream",
     "text": [
      "[CRITICAL WARNING] C:/Users/Abir Khan/Desktop/PCMC/9-8_json//133.json has different image name Track_A-Sphere-104.jpg\n",
      "[CRITICAL WARNING] 133 has different image name Track_A-Sphere-104...Updateing file name Please wait...\n",
      "[CRITICAL WARNING] C:/Users/Abir Khan/Desktop/PCMC/9-8_json//134.json has different image name Track_A-Sphere-105.jpg\n",
      "[CRITICAL WARNING] 134 has different image name Track_A-Sphere-105...Updateing file name Please wait...\n"
     ]
    },
    {
     "name": "stderr",
     "output_type": "stream",
     "text": [
      "  3%|██▍                                                                             | 41/1379 [00:05<03:57,  5.64it/s]"
     ]
    },
    {
     "name": "stdout",
     "output_type": "stream",
     "text": [
      "[CRITICAL WARNING] C:/Users/Abir Khan/Desktop/PCMC/9-8_json//135.json has different image name Track_A-Sphere-11.jpg\n",
      "[CRITICAL WARNING] 135 has different image name Track_A-Sphere-11...Updateing file name Please wait...\n",
      "[CRITICAL WARNING] C:/Users/Abir Khan/Desktop/PCMC/9-8_json//136.json has different image name Track_B-Sphere-33.jpg\n",
      "[CRITICAL WARNING] 136 has different image name Track_B-Sphere-33...Updateing file name Please wait...\n"
     ]
    },
    {
     "name": "stderr",
     "output_type": "stream",
     "text": [
      "  3%|██▍                                                                             | 43/1379 [00:05<03:47,  5.88it/s]"
     ]
    },
    {
     "name": "stdout",
     "output_type": "stream",
     "text": [
      "[CRITICAL WARNING] C:/Users/Abir Khan/Desktop/PCMC/9-8_json//137.json has different image name Track_B-Sphere-36.jpg\n",
      "[CRITICAL WARNING] 137 has different image name Track_B-Sphere-36...Updateing file name Please wait...\n"
     ]
    },
    {
     "name": "stderr",
     "output_type": "stream",
     "text": [
      "  3%|██▌                                                                             | 45/1379 [00:06<03:46,  5.90it/s]"
     ]
    },
    {
     "name": "stdout",
     "output_type": "stream",
     "text": [
      "[CRITICAL WARNING] C:/Users/Abir Khan/Desktop/PCMC/9-8_json//138.json has different image name Track_D-Sphere-13.jpg\n",
      "[CRITICAL WARNING] 138 has different image name Track_D-Sphere-13...Updateing file name Please wait...\n",
      "[CRITICAL WARNING] C:/Users/Abir Khan/Desktop/PCMC/9-8_json//139.json has different image name Track_D-Sphere-12.jpg\n",
      "[CRITICAL WARNING] 139 has different image name Track_D-Sphere-12...Updateing file name Please wait...\n"
     ]
    },
    {
     "name": "stderr",
     "output_type": "stream",
     "text": [
      "  3%|██▋                                                                             | 47/1379 [00:06<03:19,  6.67it/s]"
     ]
    },
    {
     "name": "stdout",
     "output_type": "stream",
     "text": [
      "[CRITICAL WARNING] C:/Users/Abir Khan/Desktop/PCMC/9-8_json//140.json has different image name Track_D-Sphere-10.jpg\n",
      "[CRITICAL WARNING] 140 has different image name Track_D-Sphere-10...Updateing file name Please wait...\n",
      "[CRITICAL WARNING] C:/Users/Abir Khan/Desktop/PCMC/9-8_json//141.json has different image name Track_C-Sphere-60.jpg\n",
      "[CRITICAL WARNING] 141 has different image name Track_C-Sphere-60...Updateing file name Please wait...\n",
      "[CRITICAL WARNING] C:/Users/Abir Khan/Desktop/PCMC/9-8_json//142.json has different image name Track_A-Sphere-3.jpg"
     ]
    },
    {
     "name": "stderr",
     "output_type": "stream",
     "text": [
      "\r",
      "  4%|██▊                                                                             | 49/1379 [00:06<02:48,  7.91it/s]"
     ]
    },
    {
     "name": "stdout",
     "output_type": "stream",
     "text": [
      "\n",
      "[CRITICAL WARNING] 142 has different image name Track_A-Sphere-3...Updateing file name Please wait...\n",
      "[CRITICAL WARNING] C:/Users/Abir Khan/Desktop/PCMC/9-8_json//143.json has different image name Track_A-Sphere-12.jpg\n",
      "[CRITICAL WARNING] 143 has different image name Track_A-Sphere-12...Updateing file name Please wait...\n",
      "[CRITICAL WARNING] C:/Users/Abir Khan/Desktop/PCMC/9-8_json//144.json has different image name Track_A-Sphere-22.jpg"
     ]
    },
    {
     "name": "stderr",
     "output_type": "stream",
     "text": [
      "\r",
      "  4%|██▉                                                                             | 51/1379 [00:06<02:39,  8.30it/s]"
     ]
    },
    {
     "name": "stdout",
     "output_type": "stream",
     "text": [
      "\n",
      "[CRITICAL WARNING] 144 has different image name Track_A-Sphere-22...Updateing file name Please wait...\n",
      "[CRITICAL WARNING] C:/Users/Abir Khan/Desktop/PCMC/9-8_json//145.json has different image name Track_A-Sphere-25.jpg\n",
      "[CRITICAL WARNING] 145 has different image name Track_A-Sphere-25...Updateing file name Please wait...\n"
     ]
    },
    {
     "name": "stderr",
     "output_type": "stream",
     "text": [
      "  4%|███                                                                             | 53/1379 [00:07<02:39,  8.34it/s]"
     ]
    },
    {
     "name": "stdout",
     "output_type": "stream",
     "text": [
      "[CRITICAL WARNING] C:/Users/Abir Khan/Desktop/PCMC/9-8_json//146.json has different image name Track_A-Sphere-28.jpg\n",
      "[CRITICAL WARNING] 146 has different image name Track_A-Sphere-28...Updateing file name Please wait...\n",
      "[CRITICAL WARNING] C:/Users/Abir Khan/Desktop/PCMC/9-8_json//147.json has different image name Track_A-Sphere-29.jpg\n",
      "[CRITICAL WARNING] 147 has different image name Track_A-Sphere-29...Updateing file name Please wait...\n"
     ]
    },
    {
     "name": "stderr",
     "output_type": "stream",
     "text": [
      "  4%|███▏                                                                            | 55/1379 [00:07<02:58,  7.41it/s]"
     ]
    },
    {
     "name": "stdout",
     "output_type": "stream",
     "text": [
      "[CRITICAL WARNING] C:/Users/Abir Khan/Desktop/PCMC/9-8_json//148.json has different image name Track_A-Sphere-32.jpg\n",
      "[CRITICAL WARNING] 148 has different image name Track_A-Sphere-32...Updateing file name Please wait...\n",
      "[CRITICAL WARNING] C:/Users/Abir Khan/Desktop/PCMC/9-8_json//149.json has different image name Track_A-Sphere-106.jpg\n",
      "[CRITICAL WARNING] 149 has different image name Track_A-Sphere-106...Updateing file name Please wait...\n"
     ]
    },
    {
     "name": "stderr",
     "output_type": "stream",
     "text": [
      "  4%|███▎                                                                            | 58/1379 [00:08<04:21,  5.04it/s]"
     ]
    },
    {
     "name": "stdout",
     "output_type": "stream",
     "text": [
      "[CRITICAL WARNING] C:/Users/Abir Khan/Desktop/PCMC/9-8_json//150.json has different image name Track_K-Sphere-150.jpg\n",
      "[CRITICAL WARNING] 150 has different image name Track_K-Sphere-150...Updateing file name Please wait...\n",
      "[CRITICAL WARNING] C:/Users/Abir Khan/Desktop/PCMC/9-8_json//151.json has different image name Track_L-Sphere-71.jpg\n",
      "[CRITICAL WARNING] 151 has different image name Track_L-Sphere-71...Updateing file name Please wait...\n"
     ]
    },
    {
     "name": "stderr",
     "output_type": "stream",
     "text": [
      "  4%|███▍                                                                            | 60/1379 [00:08<03:34,  6.14it/s]"
     ]
    },
    {
     "name": "stdout",
     "output_type": "stream",
     "text": [
      "[CRITICAL WARNING] C:/Users/Abir Khan/Desktop/PCMC/9-8_json//152.json has different image name Track_A-Sphere-108.jpg\n",
      "[CRITICAL WARNING] 152 has different image name Track_A-Sphere-108...Updateing file name Please wait...\n",
      "[CRITICAL WARNING] C:/Users/Abir Khan/Desktop/PCMC/9-8_json//153.json has different image name Track_A-Sphere-109.jpg\n",
      "[CRITICAL WARNING] 153 has different image name Track_A-Sphere-109...Updateing file name Please wait...\n"
     ]
    },
    {
     "name": "stderr",
     "output_type": "stream",
     "text": [
      "  4%|███▌                                                                            | 62/1379 [00:08<03:18,  6.64it/s]"
     ]
    },
    {
     "name": "stdout",
     "output_type": "stream",
     "text": [
      "[CRITICAL WARNING] C:/Users/Abir Khan/Desktop/PCMC/9-8_json//154.json has different image name Track_A-Sphere-110.jpg\n",
      "[CRITICAL WARNING] 154 has different image name Track_A-Sphere-110...Updateing file name Please wait...\n",
      "[CRITICAL WARNING] C:/Users/Abir Khan/Desktop/PCMC/9-8_json//155.json has different image name Track_A-Sphere-111.jpg\n",
      "[CRITICAL WARNING] 155 has different image name Track_A-Sphere-111...Updateing file name Please wait...\n"
     ]
    },
    {
     "name": "stderr",
     "output_type": "stream",
     "text": [
      "  5%|███▋                                                                            | 64/1379 [00:09<02:57,  7.42it/s]"
     ]
    },
    {
     "name": "stdout",
     "output_type": "stream",
     "text": [
      "[CRITICAL WARNING] C:/Users/Abir Khan/Desktop/PCMC/9-8_json//156.json has different image name Track_A-Sphere-112.jpg\n",
      "[CRITICAL WARNING] 156 has different image name Track_A-Sphere-112...Updateing file name Please wait...\n",
      "[CRITICAL WARNING] C:/Users/Abir Khan/Desktop/PCMC/9-8_json//157.json has different image name Track_A-Sphere-113.jpg\n",
      "[CRITICAL WARNING] 157 has different image name Track_A-Sphere-113...Updateing file name Please wait...\n"
     ]
    },
    {
     "name": "stderr",
     "output_type": "stream",
     "text": [
      "  5%|███▊                                                                            | 66/1379 [00:09<02:52,  7.59it/s]"
     ]
    },
    {
     "name": "stdout",
     "output_type": "stream",
     "text": [
      "[CRITICAL WARNING] C:/Users/Abir Khan/Desktop/PCMC/9-8_json//158.json has different image name Track_A-Sphere-130.jpg\n",
      "[CRITICAL WARNING] 158 has different image name Track_A-Sphere-130...Updateing file name Please wait...\n",
      "[CRITICAL WARNING] C:/Users/Abir Khan/Desktop/PCMC/9-8_json//159.json has different image name Track_M-Sphere-31.jpg\n",
      "[CRITICAL WARNING] 159 has different image name Track_M-Sphere-31...Updateing file name Please wait...\n"
     ]
    },
    {
     "name": "stderr",
     "output_type": "stream",
     "text": [
      "  5%|████                                                                            | 69/1379 [00:09<02:52,  7.59it/s]"
     ]
    },
    {
     "name": "stdout",
     "output_type": "stream",
     "text": [
      "[CRITICAL WARNING] C:/Users/Abir Khan/Desktop/PCMC/9-8_json//160.json has different image name Track_M-Sphere-30.jpg\n",
      "[CRITICAL WARNING] 160 has different image name Track_M-Sphere-30...Updateing file name Please wait...\n",
      "[CRITICAL WARNING] C:/Users/Abir Khan/Desktop/PCMC/9-8_json//161.json has different image name Track_M-Sphere-38.jpg\n",
      "[CRITICAL WARNING] 161 has different image name Track_M-Sphere-38...Updateing file name Please wait...\n"
     ]
    },
    {
     "name": "stderr",
     "output_type": "stream",
     "text": [
      "  5%|████                                                                            | 71/1379 [00:09<02:49,  7.72it/s]"
     ]
    },
    {
     "name": "stdout",
     "output_type": "stream",
     "text": [
      "[CRITICAL WARNING] C:/Users/Abir Khan/Desktop/PCMC/9-8_json//162.json has different image name Track_M-Sphere-37.jpg\n",
      "[CRITICAL WARNING] 162 has different image name Track_M-Sphere-37...Updateing file name Please wait...\n"
     ]
    },
    {
     "name": "stderr",
     "output_type": "stream",
     "text": [
      "\r",
      "  5%|████▏                                                                           | 72/1379 [00:10<03:27,  6.30it/s]"
     ]
    },
    {
     "name": "stdout",
     "output_type": "stream",
     "text": [
      "[CRITICAL WARNING] C:/Users/Abir Khan/Desktop/PCMC/9-8_json//163.json has different image name Track_M-Sphere-36.jpg\n",
      "[CRITICAL WARNING] 163 has different image name Track_M-Sphere-36...Updateing file name Please wait...\n",
      "[CRITICAL WARNING] C:/Users/Abir Khan/Desktop/PCMC/9-8_json//164.json has different image name Track_M-Sphere-35.jpg\n",
      "[CRITICAL WARNING] 164 has different image name Track_M-Sphere-35...Updateing file name Please wait...\n"
     ]
    },
    {
     "name": "stderr",
     "output_type": "stream",
     "text": [
      "\r",
      "  5%|████▏                                                                           | 73/1379 [00:10<03:28,  6.25it/s]"
     ]
    },
    {
     "name": "stdout",
     "output_type": "stream",
     "text": [
      "[CRITICAL WARNING] C:/Users/Abir Khan/Desktop/PCMC/9-8_json//165.json has different image name Track_M-Sphere-34.jpg\n",
      "[CRITICAL WARNING] 165 has different image name Track_M-Sphere-34...Updateing file name Please wait...\n"
     ]
    },
    {
     "name": "stderr",
     "output_type": "stream",
     "text": [
      "  5%|████▎                                                                           | 75/1379 [00:10<04:08,  5.24it/s]"
     ]
    },
    {
     "name": "stdout",
     "output_type": "stream",
     "text": [
      "[CRITICAL WARNING] C:/Users/Abir Khan/Desktop/PCMC/9-8_json//166.json has different image name Track_M-Sphere-32.jpg\n",
      "[CRITICAL WARNING] 166 has different image name Track_M-Sphere-32...Updateing file name Please wait...\n",
      "[CRITICAL WARNING] C:/Users/Abir Khan/Desktop/PCMC/9-8_json//167.json has different image name Track_S-Sphere-75.jpg\n",
      "[CRITICAL WARNING] 167 has different image name Track_S-Sphere-75...Updateing file name Please wait...\n"
     ]
    },
    {
     "name": "stderr",
     "output_type": "stream",
     "text": [
      "  6%|████▍                                                                           | 77/1379 [00:11<04:08,  5.23it/s]"
     ]
    },
    {
     "name": "stdout",
     "output_type": "stream",
     "text": [
      "[CRITICAL WARNING] C:/Users/Abir Khan/Desktop/PCMC/9-8_json//168.json has different image name Track_S-Sphere-70.jpg\n",
      "[CRITICAL WARNING] 168 has different image name Track_S-Sphere-70...Updateing file name Please wait...\n",
      "[CRITICAL WARNING] C:/Users/Abir Khan/Desktop/PCMC/9-8_json//169.json has different image name Track_S-Sphere-69.jpg\n",
      "[CRITICAL WARNING] 169 has different image name Track_S-Sphere-69...Updateing file name Please wait...\n"
     ]
    },
    {
     "name": "stderr",
     "output_type": "stream",
     "text": [
      "  6%|████▋                                                                           | 80/1379 [00:12<05:27,  3.97it/s]"
     ]
    },
    {
     "name": "stdout",
     "output_type": "stream",
     "text": [
      "[CRITICAL WARNING] C:/Users/Abir Khan/Desktop/PCMC/9-8_json//170.json has different image name Track_S-Sphere-71.jpg\n",
      "[CRITICAL WARNING] 170 has different image name Track_S-Sphere-71...Updateing file name Please wait...\n"
     ]
    },
    {
     "name": "stderr",
     "output_type": "stream",
     "text": [
      "\r",
      "  6%|████▋                                                                           | 81/1379 [00:12<04:51,  4.46it/s]"
     ]
    },
    {
     "name": "stdout",
     "output_type": "stream",
     "text": [
      "[CRITICAL WARNING] C:/Users/Abir Khan/Desktop/PCMC/9-8_json//171.json has different image name Track_K-Sphere-171.jpg\n",
      "[CRITICAL WARNING] 171 has different image name Track_K-Sphere-171...Updateing file name Please wait...\n",
      "[CRITICAL WARNING] C:/Users/Abir Khan/Desktop/PCMC/9-8_json//172.json has different image name Track_A-Sphere-122.jpg\n",
      "[CRITICAL WARNING] 172 has different image name Track_A-Sphere-122...Updateing file name Please wait...\n"
     ]
    },
    {
     "name": "stderr",
     "output_type": "stream",
     "text": [
      "  6%|████▊                                                                           | 83/1379 [00:12<04:14,  5.09it/s]"
     ]
    },
    {
     "name": "stdout",
     "output_type": "stream",
     "text": [
      "[CRITICAL WARNING] C:/Users/Abir Khan/Desktop/PCMC/9-8_json//173.json has different image name Track_A-Sphere-123.jpg\n",
      "[CRITICAL WARNING] 173 has different image name Track_A-Sphere-123...Updateing file name Please wait...\n",
      "[CRITICAL WARNING] C:/Users/Abir Khan/Desktop/PCMC/9-8_json//174.json has different image name Track_A-Sphere-124.jpg\n",
      "[CRITICAL WARNING] 174 has different image name Track_A-Sphere-124...Updateing file name Please wait...\n"
     ]
    },
    {
     "name": "stderr",
     "output_type": "stream",
     "text": [
      "  6%|████▉                                                                           | 85/1379 [00:13<07:55,  2.72it/s]"
     ]
    },
    {
     "name": "stdout",
     "output_type": "stream",
     "text": [
      "[CRITICAL WARNING] C:/Users/Abir Khan/Desktop/PCMC/9-8_json//175.json has different image name Track_A-Sphere-125.jpg\n",
      "[CRITICAL WARNING] 175 has different image name Track_A-Sphere-125...Updateing file name Please wait...\n"
     ]
    },
    {
     "name": "stderr",
     "output_type": "stream",
     "text": [
      "\r",
      "  6%|████▉                                                                           | 86/1379 [00:13<07:12,  2.99it/s]"
     ]
    },
    {
     "name": "stdout",
     "output_type": "stream",
     "text": [
      "[CRITICAL WARNING] C:/Users/Abir Khan/Desktop/PCMC/9-8_json//176.json has different image name Track_A-Sphere-126.jpg\n",
      "[CRITICAL WARNING] 176 has different image name Track_A-Sphere-126...Updateing file name Please wait...\n",
      "[CRITICAL WARNING] C:/Users/Abir Khan/Desktop/PCMC/9-8_json//177.json has different image name Track_A-Sphere-132.jpg"
     ]
    },
    {
     "name": "stderr",
     "output_type": "stream",
     "text": [
      "\r",
      "  6%|█████                                                                           | 87/1379 [00:13<06:11,  3.48it/s]"
     ]
    },
    {
     "name": "stdout",
     "output_type": "stream",
     "text": [
      "\n",
      "[CRITICAL WARNING] 177 has different image name Track_A-Sphere-132...Updateing file name Please wait...\n",
      "[CRITICAL WARNING] C:/Users/Abir Khan/Desktop/PCMC/9-8_json//178.json has different image name Track_A-Sphere-131.jpg\n",
      "[CRITICAL WARNING] 178 has different image name Track_A-Sphere-131...Updateing file name Please wait...\n"
     ]
    },
    {
     "name": "stderr",
     "output_type": "stream",
     "text": [
      "\r",
      "  6%|█████                                                                           | 88/1379 [00:14<05:34,  3.85it/s]"
     ]
    },
    {
     "name": "stdout",
     "output_type": "stream",
     "text": [
      "[CRITICAL WARNING] C:/Users/Abir Khan/Desktop/PCMC/9-8_json//179.json has different image name Track_I-Sphere-197.jpg\n",
      "[CRITICAL WARNING] 179 has different image name Track_I-Sphere-197...Updateing file name Please wait...\n"
     ]
    },
    {
     "name": "stderr",
     "output_type": "stream",
     "text": [
      "  7%|█████▎                                                                          | 91/1379 [00:14<05:00,  4.28it/s]"
     ]
    },
    {
     "name": "stdout",
     "output_type": "stream",
     "text": [
      "[CRITICAL WARNING] C:/Users/Abir Khan/Desktop/PCMC/9-8_json//180.json has different image name Track_I-Sphere-198.jpg\n",
      "[CRITICAL WARNING] 180 has different image name Track_I-Sphere-198...Updateing file name Please wait...\n"
     ]
    },
    {
     "name": "stderr",
     "output_type": "stream",
     "text": [
      "\r",
      "  7%|█████▎                                                                          | 92/1379 [00:15<04:31,  4.74it/s]"
     ]
    },
    {
     "name": "stdout",
     "output_type": "stream",
     "text": [
      "[CRITICAL WARNING] C:/Users/Abir Khan/Desktop/PCMC/9-8_json//181.json has different image name Track_I-Sphere-199.jpg\n",
      "[CRITICAL WARNING] 181 has different image name Track_I-Sphere-199...Updateing file name Please wait...\n",
      "[CRITICAL WARNING] C:/Users/Abir Khan/Desktop/PCMC/9-8_json//182.json has different image name Track_I-Sphere-200.jpg\n",
      "[CRITICAL WARNING] 182 has different image name Track_I-Sphere-200...Updateing file name Please wait...\n"
     ]
    },
    {
     "name": "stderr",
     "output_type": "stream",
     "text": [
      "  7%|█████▍                                                                          | 94/1379 [00:15<03:46,  5.67it/s]"
     ]
    },
    {
     "name": "stdout",
     "output_type": "stream",
     "text": [
      "[CRITICAL WARNING] C:/Users/Abir Khan/Desktop/PCMC/9-8_json//183.json has different image name Track_I-Sphere-201.jpg\n",
      "[CRITICAL WARNING] 183 has different image name Track_I-Sphere-201...Updateing file name Please wait...\n",
      "[CRITICAL WARNING] C:/Users/Abir Khan/Desktop/PCMC/9-8_json//184.json has different image name Track_I-Sphere-202.jpg\n",
      "[CRITICAL WARNING] 184 has different image name Track_I-Sphere-202...Updateing file name Please wait...\n"
     ]
    },
    {
     "name": "stderr",
     "output_type": "stream",
     "text": [
      "  7%|█████▌                                                                          | 96/1379 [00:15<03:43,  5.73it/s]"
     ]
    },
    {
     "name": "stdout",
     "output_type": "stream",
     "text": [
      "[CRITICAL WARNING] C:/Users/Abir Khan/Desktop/PCMC/9-8_json//185.json has different image name Track_I-Sphere-203.jpg\n",
      "[CRITICAL WARNING] 185 has different image name Track_I-Sphere-203...Updateing file name Please wait...\n"
     ]
    },
    {
     "name": "stderr",
     "output_type": "stream",
     "text": [
      "\r",
      "  7%|█████▋                                                                          | 97/1379 [00:15<04:46,  4.48it/s]"
     ]
    },
    {
     "name": "stdout",
     "output_type": "stream",
     "text": [
      "[CRITICAL WARNING] C:/Users/Abir Khan/Desktop/PCMC/9-8_json//186.json has different image name Track_M-Sphere-102.jpg\n",
      "[CRITICAL WARNING] 186 has different image name Track_M-Sphere-102...Updateing file name Please wait...\n",
      "[CRITICAL WARNING] C:/Users/Abir Khan/Desktop/PCMC/9-8_json//187.json has different image name Track_S-Sphere-68.jpg\n",
      "[CRITICAL WARNING] 187 has different image name Track_S-Sphere-68...Updateing file name Please wait...\n"
     ]
    },
    {
     "name": "stderr",
     "output_type": "stream",
     "text": [
      "  7%|█████▋                                                                          | 99/1379 [00:16<04:44,  4.50it/s]"
     ]
    },
    {
     "name": "stdout",
     "output_type": "stream",
     "text": [
      "[CRITICAL WARNING] C:/Users/Abir Khan/Desktop/PCMC/9-8_json//188.json has different image name Track_S-Sphere-67.jpg\n",
      "[CRITICAL WARNING] 188 has different image name Track_S-Sphere-67...Updateing file name Please wait...\n"
     ]
    },
    {
     "name": "stderr",
     "output_type": "stream",
     "text": [
      "\r",
      "  7%|█████▋                                                                         | 100/1379 [00:16<04:24,  4.84it/s]"
     ]
    },
    {
     "name": "stdout",
     "output_type": "stream",
     "text": [
      "[CRITICAL WARNING] C:/Users/Abir Khan/Desktop/PCMC/9-8_json//189.json has different image name Track_D-Sphere-189.jpg\n",
      "[CRITICAL WARNING] 189 has different image name Track_D-Sphere-189...Updateing file name Please wait...\n"
     ]
    },
    {
     "name": "stderr",
     "output_type": "stream",
     "text": [
      "  7%|█████▉                                                                         | 103/1379 [00:17<04:19,  4.93it/s]"
     ]
    },
    {
     "name": "stdout",
     "output_type": "stream",
     "text": [
      "[CRITICAL WARNING] C:/Users/Abir Khan/Desktop/PCMC/9-8_json//190.json has different image name Track_D-Sphere-190.jpg\n",
      "[CRITICAL WARNING] 190 has different image name Track_D-Sphere-190...Updateing file name Please wait...\n",
      "[CRITICAL WARNING] C:/Users/Abir Khan/Desktop/PCMC/9-8_json//191.json has different image name Track_D-Sphere-191.jpg\n",
      "[CRITICAL WARNING] 191 has different image name Track_D-Sphere-191...Updateing file name Please wait...\n"
     ]
    },
    {
     "name": "stderr",
     "output_type": "stream",
     "text": [
      "\r",
      "  8%|█████▉                                                                         | 104/1379 [00:17<04:10,  5.08it/s]"
     ]
    },
    {
     "name": "stdout",
     "output_type": "stream",
     "text": [
      "[CRITICAL WARNING] C:/Users/Abir Khan/Desktop/PCMC/9-8_json//192.json has different image name Track_D-Sphere-192.jpg\n",
      "[CRITICAL WARNING] 192 has different image name Track_D-Sphere-192...Updateing file name Please wait...\n",
      "[CRITICAL WARNING] C:/Users/Abir Khan/Desktop/PCMC/9-8_json//193.json has different image name Track_D-Sphere-193.jpg\n",
      "[CRITICAL WARNING] 193 has different image name Track_D-Sphere-193...Updateing file name Please wait...\n"
     ]
    },
    {
     "name": "stderr",
     "output_type": "stream",
     "text": [
      "  8%|██████▏                                                                        | 107/1379 [00:17<02:56,  7.22it/s]"
     ]
    },
    {
     "name": "stdout",
     "output_type": "stream",
     "text": [
      "[CRITICAL WARNING] C:/Users/Abir Khan/Desktop/PCMC/9-8_json//194.json has different image name Track_D-Sphere-194.jpg\n",
      "[CRITICAL WARNING] 194 has different image name Track_D-Sphere-194...Updateing file name Please wait...\n",
      "[CRITICAL WARNING] C:/Users/Abir Khan/Desktop/PCMC/9-8_json//195.json has different image name Track_A-Sphere-190.jpg\n",
      "[CRITICAL WARNING] 195 has different image name Track_A-Sphere-190...Updateing file name Please wait...\n",
      "[CRITICAL WARNING] C:/Users/Abir Khan/Desktop/PCMC/9-8_json//196.json has different image name Track_O-Sphere-23.jpg"
     ]
    },
    {
     "name": "stderr",
     "output_type": "stream",
     "text": [
      "\r",
      "  8%|██████▏                                                                        | 108/1379 [00:17<02:53,  7.31it/s]"
     ]
    },
    {
     "name": "stdout",
     "output_type": "stream",
     "text": [
      "\n",
      "[CRITICAL WARNING] 196 has different image name Track_O-Sphere-23...Updateing file name Please wait...\n",
      "[CRITICAL WARNING] C:/Users/Abir Khan/Desktop/PCMC/9-8_json//197.json has different image name Track_O-Sphere-22.jpg\n",
      "[CRITICAL WARNING] 197 has different image name Track_O-Sphere-22...Updateing file name Please wait...\n"
     ]
    },
    {
     "name": "stderr",
     "output_type": "stream",
     "text": [
      "  8%|██████▎                                                                        | 110/1379 [00:18<03:20,  6.32it/s]"
     ]
    },
    {
     "name": "stdout",
     "output_type": "stream",
     "text": [
      "[CRITICAL WARNING] C:/Users/Abir Khan/Desktop/PCMC/9-8_json//198.json has different image name Track_B-Sphere-133.jpg\n",
      "[CRITICAL WARNING] 198 has different image name Track_B-Sphere-133...Updateing file name Please wait...\n"
     ]
    },
    {
     "name": "stderr",
     "output_type": "stream",
     "text": [
      "\r",
      "  8%|██████▎                                                                        | 111/1379 [00:18<05:00,  4.22it/s]"
     ]
    },
    {
     "name": "stdout",
     "output_type": "stream",
     "text": [
      "[CRITICAL WARNING] C:/Users/Abir Khan/Desktop/PCMC/9-8_json//199.json has different image name Track_B-Sphere-132.jpg\n",
      "[CRITICAL WARNING] 199 has different image name Track_B-Sphere-132...Updateing file name Please wait...\n"
     ]
    },
    {
     "name": "stderr",
     "output_type": "stream",
     "text": [
      "  8%|██████▌                                                                        | 114/1379 [00:19<04:56,  4.27it/s]"
     ]
    },
    {
     "name": "stdout",
     "output_type": "stream",
     "text": [
      "[CRITICAL WARNING] C:/Users/Abir Khan/Desktop/PCMC/9-8_json//200.json has different image name Track_B-Sphere-131.jpg\n",
      "[CRITICAL WARNING] 200 has different image name Track_B-Sphere-131...Updateing file name Please wait...\n",
      "[CRITICAL WARNING] C:/Users/Abir Khan/Desktop/PCMC/9-8_json//201.json has different image name Track_B-Sphere-130.jpg\n",
      "[CRITICAL WARNING] 201 has different image name Track_B-Sphere-130...Updateing file name Please wait...\n"
     ]
    },
    {
     "name": "stderr",
     "output_type": "stream",
     "text": [
      "  8%|██████▋                                                                        | 116/1379 [00:20<06:42,  3.13it/s]"
     ]
    },
    {
     "name": "stdout",
     "output_type": "stream",
     "text": [
      "[CRITICAL WARNING] C:/Users/Abir Khan/Desktop/PCMC/9-8_json//202.json has different image name Track_A-Sphere-246.jpg\n",
      "[CRITICAL WARNING] 202 has different image name Track_A-Sphere-246...Updateing file name Please wait...\n"
     ]
    },
    {
     "name": "stderr",
     "output_type": "stream",
     "text": [
      "\r",
      "  8%|██████▋                                                                        | 117/1379 [00:20<07:35,  2.77it/s]"
     ]
    },
    {
     "name": "stdout",
     "output_type": "stream",
     "text": [
      "[CRITICAL WARNING] C:/Users/Abir Khan/Desktop/PCMC/9-8_json//208.json has different image name Track_K-Sphere-208.jpg\n",
      "[CRITICAL WARNING] 208 has different image name Track_K-Sphere-208...Updateing file name Please wait...\n",
      "[CRITICAL WARNING] C:/Users/Abir Khan/Desktop/PCMC/9-8_json//209.json has different image name Track_K-Sphere-209.jpg\n",
      "[CRITICAL WARNING] 209 has different image name Track_K-Sphere-209...Updateing file name Please wait...\n"
     ]
    },
    {
     "name": "stderr",
     "output_type": "stream",
     "text": [
      "  9%|██████▊                                                                        | 120/1379 [00:21<06:13,  3.37it/s]"
     ]
    },
    {
     "name": "stdout",
     "output_type": "stream",
     "text": [
      "[CRITICAL WARNING] C:/Users/Abir Khan/Desktop/PCMC/9-8_json//210.json has different image name TrackZ_D-Sphere-149.jpg\n",
      "[CRITICAL WARNING] 210 has different image name TrackZ_D-Sphere-149...Updateing file name Please wait...\n",
      "[CRITICAL WARNING] C:/Users/Abir Khan/Desktop/PCMC/9-8_json//212.json has different image name Track_K-Sphere-212.jpg\n",
      "[CRITICAL WARNING] 212 has different image name Track_K-Sphere-212...Updateing file name Please wait...\n"
     ]
    },
    {
     "name": "stderr",
     "output_type": "stream",
     "text": [
      " 10%|███████▌                                                                       | 133/1379 [00:24<03:38,  5.71it/s]"
     ]
    },
    {
     "name": "stdout",
     "output_type": "stream",
     "text": [
      "[CRITICAL WARNING] C:/Users/Abir Khan/Desktop/PCMC/9-8_json//31.json has different image name Track_A-Sphere-542.jpg\n",
      "[CRITICAL WARNING] 31 has different image name Track_A-Sphere-542...Updateing file name Please wait...\n",
      "[CRITICAL WARNING] C:/Users/Abir Khan/Desktop/PCMC/9-8_json//32.json has different image name Track_A-Sphere-543.jpg\n",
      "[CRITICAL WARNING] 32 has different image name Track_A-Sphere-543...Updateing file name Please wait...\n"
     ]
    },
    {
     "name": "stderr",
     "output_type": "stream",
     "text": [
      "\r",
      " 10%|███████▋                                                                       | 134/1379 [00:24<03:23,  6.11it/s]"
     ]
    },
    {
     "name": "stdout",
     "output_type": "stream",
     "text": [
      "[CRITICAL WARNING] C:/Users/Abir Khan/Desktop/PCMC/9-8_json//326.json has different image name Track_K-Sphere-326.jpg\n",
      "[CRITICAL WARNING] 326 has different image name Track_K-Sphere-326...Updateing file name Please wait...\n",
      "[CRITICAL WARNING] C:/Users/Abir Khan/Desktop/PCMC/9-8_json//33.json has different image name Track_A-Sphere-544.jpg\n",
      "[CRITICAL WARNING] 33 has different image name Track_A-Sphere-544...Updateing file name Please wait...\n"
     ]
    },
    {
     "name": "stderr",
     "output_type": "stream",
     "text": [
      " 10%|███████▊                                                                       | 136/1379 [00:24<02:58,  6.98it/s]"
     ]
    },
    {
     "name": "stdout",
     "output_type": "stream",
     "text": [
      "[CRITICAL WARNING] C:/Users/Abir Khan/Desktop/PCMC/9-8_json//34.json has different image name Track_A-Sphere-545.jpg\n",
      "[CRITICAL WARNING] 34 has different image name Track_A-Sphere-545...Updateing file name Please wait...\n",
      "[CRITICAL WARNING] C:/Users/Abir Khan/Desktop/PCMC/9-8_json//35.json has different image name Track_A-Sphere-546.jpg\n",
      "[CRITICAL WARNING] 35 has different image name Track_A-Sphere-546...Updateing file name Please wait...\n"
     ]
    },
    {
     "name": "stderr",
     "output_type": "stream",
     "text": [
      " 10%|███████▉                                                                       | 138/1379 [00:24<02:54,  7.12it/s]"
     ]
    },
    {
     "name": "stdout",
     "output_type": "stream",
     "text": [
      "[CRITICAL WARNING] C:/Users/Abir Khan/Desktop/PCMC/9-8_json//36.json has different image name Track_A-Sphere-576.jpg\n",
      "[CRITICAL WARNING] 36 has different image name Track_A-Sphere-576...Updateing file name Please wait...\n",
      "[CRITICAL WARNING] C:/Users/Abir Khan/Desktop/PCMC/9-8_json//37.json has different image name Track_A-Sphere-577.jpg\n",
      "[CRITICAL WARNING] 37 has different image name Track_A-Sphere-577...Updateing file name Please wait...\n",
      "[CRITICAL WARNING] C:/Users/Abir Khan/Desktop/PCMC/9-8_json//38.json has different image name Track_A-Sphere-578.jpg"
     ]
    },
    {
     "name": "stderr",
     "output_type": "stream",
     "text": [
      "\r",
      " 10%|████████                                                                       | 140/1379 [00:25<02:27,  8.38it/s]"
     ]
    },
    {
     "name": "stdout",
     "output_type": "stream",
     "text": [
      "\n",
      "[CRITICAL WARNING] 38 has different image name Track_A-Sphere-578...Updateing file name Please wait...\n"
     ]
    },
    {
     "name": "stderr",
     "output_type": "stream",
     "text": [
      "\r",
      " 10%|████████                                                                       | 141/1379 [00:25<04:08,  4.97it/s]"
     ]
    },
    {
     "name": "stdout",
     "output_type": "stream",
     "text": [
      "[CRITICAL WARNING] C:/Users/Abir Khan/Desktop/PCMC/9-8_json//39.json has different image name Track_A-Sphere-579.jpg\n",
      "[CRITICAL WARNING] 39 has different image name Track_A-Sphere-579...Updateing file name Please wait...\n"
     ]
    },
    {
     "name": "stderr",
     "output_type": "stream",
     "text": [
      " 10%|████████▏                                                                      | 143/1379 [00:25<03:28,  5.91it/s]"
     ]
    },
    {
     "name": "stdout",
     "output_type": "stream",
     "text": [
      "[CRITICAL WARNING] C:/Users/Abir Khan/Desktop/PCMC/9-8_json//40.json has different image name Track_A-Sphere-580.jpg\n",
      "[CRITICAL WARNING] 40 has different image name Track_A-Sphere-580...Updateing file name Please wait...\n",
      "[CRITICAL WARNING] C:/Users/Abir Khan/Desktop/PCMC/9-8_json//41.json has different image name Track_A-Sphere-581.jpg\n",
      "[CRITICAL WARNING] 41 has different image name Track_A-Sphere-581...Updateing file name Please wait...\n"
     ]
    },
    {
     "name": "stderr",
     "output_type": "stream",
     "text": [
      "\r",
      " 10%|████████▏                                                                      | 144/1379 [00:25<03:22,  6.10it/s]"
     ]
    },
    {
     "name": "stdout",
     "output_type": "stream",
     "text": [
      "[CRITICAL WARNING] C:/Users/Abir Khan/Desktop/PCMC/9-8_json//42.json has different image name Track_A-Sphere-595.jpg\n",
      "[CRITICAL WARNING] 42 has different image name Track_A-Sphere-595...Updateing file name Please wait...\n"
     ]
    },
    {
     "name": "stderr",
     "output_type": "stream",
     "text": [
      " 11%|████████▎                                                                      | 146/1379 [00:26<06:25,  3.20it/s]"
     ]
    },
    {
     "name": "stdout",
     "output_type": "stream",
     "text": [
      "[CRITICAL WARNING] C:/Users/Abir Khan/Desktop/PCMC/9-8_json//43.json has different image name Track_A-Sphere-596.jpg\n",
      "[CRITICAL WARNING] 43 has different image name Track_A-Sphere-596...Updateing file name Please wait...\n"
     ]
    },
    {
     "name": "stderr",
     "output_type": "stream",
     "text": [
      "\r",
      " 11%|████████▍                                                                      | 147/1379 [00:26<05:20,  3.84it/s]"
     ]
    },
    {
     "name": "stdout",
     "output_type": "stream",
     "text": [
      "[CRITICAL WARNING] C:/Users/Abir Khan/Desktop/PCMC/9-8_json//44.json has different image name Track_A-Sphere-597.jpg\n",
      "[CRITICAL WARNING] 44 has different image name Track_A-Sphere-597...Updateing file name Please wait...\n",
      "[CRITICAL WARNING] C:/Users/Abir Khan/Desktop/PCMC/9-8_json//444.json has different image name Track_K-Sphere-444.jpg\n",
      "[CRITICAL WARNING] 444 has different image name Track_K-Sphere-444...Updateing file name Please wait...\n"
     ]
    },
    {
     "name": "stderr",
     "output_type": "stream",
     "text": [
      " 11%|████████▌                                                                      | 149/1379 [00:27<04:53,  4.19it/s]"
     ]
    },
    {
     "name": "stdout",
     "output_type": "stream",
     "text": [
      "[CRITICAL WARNING] C:/Users/Abir Khan/Desktop/PCMC/9-8_json//45.json has different image name Track_A-Sphere-598.jpg\n",
      "[CRITICAL WARNING] 45 has different image name Track_A-Sphere-598...Updateing file name Please wait...\n",
      "[CRITICAL WARNING] C:/Users/Abir Khan/Desktop/PCMC/9-8_json//46.json has different image name Track_A-Sphere-599.jpg\n",
      "[CRITICAL WARNING] 46 has different image name Track_A-Sphere-599...Updateing file name Please wait...\n"
     ]
    },
    {
     "name": "stderr",
     "output_type": "stream",
     "text": [
      " 11%|████████▋                                                                      | 152/1379 [00:27<03:15,  6.29it/s]"
     ]
    },
    {
     "name": "stdout",
     "output_type": "stream",
     "text": [
      "[CRITICAL WARNING] C:/Users/Abir Khan/Desktop/PCMC/9-8_json//47.json has different image name Track_A-Sphere-621.jpg\n",
      "[CRITICAL WARNING] 47 has different image name Track_A-Sphere-621...Updateing file name Please wait...\n",
      "[CRITICAL WARNING] C:/Users/Abir Khan/Desktop/PCMC/9-8_json//48.json has different image name Track_A-Sphere-622.jpg\n",
      "[CRITICAL WARNING] 48 has different image name Track_A-Sphere-622...Updateing file name Please wait...\n",
      "[CRITICAL WARNING] C:/Users/Abir Khan/Desktop/PCMC/9-8_json//49.json has different image name Track_A-Sphere-623.jpg"
     ]
    },
    {
     "name": "stderr",
     "output_type": "stream",
     "text": [
      "\r",
      " 11%|████████▊                                                                      | 154/1379 [00:27<02:32,  8.06it/s]"
     ]
    },
    {
     "name": "stdout",
     "output_type": "stream",
     "text": [
      "\n",
      "[CRITICAL WARNING] 49 has different image name Track_A-Sphere-623...Updateing file name Please wait...\n"
     ]
    },
    {
     "name": "stderr",
     "output_type": "stream",
     "text": [
      " 11%|████████▉                                                                      | 156/1379 [00:28<02:46,  7.34it/s]"
     ]
    },
    {
     "name": "stdout",
     "output_type": "stream",
     "text": [
      "[CRITICAL WARNING] C:/Users/Abir Khan/Desktop/PCMC/9-8_json//50.json has different image name Track_A-Sphere-624.jpg\n",
      "[CRITICAL WARNING] 50 has different image name Track_A-Sphere-624...Updateing file name Please wait...\n",
      "[CRITICAL WARNING] C:/Users/Abir Khan/Desktop/PCMC/9-8_json//51.json has different image name Track_A-Sphere-625.jpg\n",
      "[CRITICAL WARNING] 51 has different image name Track_A-Sphere-625...Updateing file name Please wait...\n",
      "[CRITICAL WARNING] C:/Users/Abir Khan/Desktop/PCMC/9-8_json//52.json has different image name Track_A-Sphere-626.jpg\n",
      "[CRITICAL WARNING] 52 has different image name Track_A-Sphere-626...Updateing file name Please wait...\n"
     ]
    },
    {
     "name": "stderr",
     "output_type": "stream",
     "text": [
      "\r",
      " 11%|█████████                                                                      | 158/1379 [00:28<02:26,  8.34it/s]"
     ]
    },
    {
     "name": "stdout",
     "output_type": "stream",
     "text": [
      "[CRITICAL WARNING] C:/Users/Abir Khan/Desktop/PCMC/9-8_json//53.json has different image name Track_A-Sphere-627.jpg\n",
      "[CRITICAL WARNING] 53 has different image name Track_A-Sphere-627...Updateing file name Please wait...\n",
      "[CRITICAL WARNING] C:/Users/Abir Khan/Desktop/PCMC/9-8_json//54.json has different image name Track_A-Sphere-628.jpg\n",
      "[CRITICAL WARNING] 54 has different image name Track_A-Sphere-628...Updateing file name Please wait...\n"
     ]
    },
    {
     "name": "stderr",
     "output_type": "stream",
     "text": [
      " 12%|█████████▏                                                                     | 161/1379 [00:28<02:14,  9.03it/s]"
     ]
    },
    {
     "name": "stdout",
     "output_type": "stream",
     "text": [
      "[CRITICAL WARNING] C:/Users/Abir Khan/Desktop/PCMC/9-8_json//55.json has different image name Track_A-Sphere-635.jpg\n",
      "[CRITICAL WARNING] 55 has different image name Track_A-Sphere-635...Updateing file name Please wait...\n",
      "[CRITICAL WARNING] C:/Users/Abir Khan/Desktop/PCMC/9-8_json//56.json has different image name Track_A-Sphere-636.jpg\n",
      "[CRITICAL WARNING] 56 has different image name Track_A-Sphere-636...Updateing file name Please wait...\n"
     ]
    },
    {
     "name": "stderr",
     "output_type": "stream",
     "text": [
      "\r",
      " 12%|█████████▎                                                                     | 162/1379 [00:28<02:18,  8.78it/s]"
     ]
    },
    {
     "name": "stdout",
     "output_type": "stream",
     "text": [
      "[CRITICAL WARNING] C:/Users/Abir Khan/Desktop/PCMC/9-8_json//57.json has different image name Track_A-Sphere-637.jpg\n",
      "[CRITICAL WARNING] 57 has different image name Track_A-Sphere-637...Updateing file name Please wait...\n",
      "[CRITICAL WARNING] C:/Users/Abir Khan/Desktop/PCMC/9-8_json//58.json has different image name Track_A-Sphere-638.jpg\n",
      "[CRITICAL WARNING] 58 has different image name Track_A-Sphere-638...Updateing file name Please wait...\n",
      "[CRITICAL WARNING] C:/Users/Abir Khan/Desktop/PCMC/9-8_json//586.json has different image name TrackZ_C-Sphere-586.jpg"
     ]
    },
    {
     "name": "stderr",
     "output_type": "stream",
     "text": [
      "\r",
      " 12%|█████████▍                                                                     | 164/1379 [00:29<02:12,  9.19it/s]"
     ]
    },
    {
     "name": "stdout",
     "output_type": "stream",
     "text": [
      "\n",
      "[CRITICAL WARNING] 586 has different image name TrackZ_C-Sphere-586...Updateing file name Please wait...\n",
      "[CRITICAL WARNING] C:/Users/Abir Khan/Desktop/PCMC/9-8_json//59.json has different image name Track_A-Sphere-701.jpg\n",
      "[CRITICAL WARNING] 59 has different image name Track_A-Sphere-701...Updateing file name Please wait...\n"
     ]
    },
    {
     "name": "stderr",
     "output_type": "stream",
     "text": [
      " 12%|█████████▌                                                                     | 167/1379 [00:29<02:53,  6.97it/s]"
     ]
    },
    {
     "name": "stdout",
     "output_type": "stream",
     "text": [
      "[CRITICAL WARNING] C:/Users/Abir Khan/Desktop/PCMC/9-8_json//60.json has different image name Track_A-Sphere-702.jpg\n",
      "[CRITICAL WARNING] 60 has different image name Track_A-Sphere-702...Updateing file name Please wait...\n",
      "[CRITICAL WARNING] C:/Users/Abir Khan/Desktop/PCMC/9-8_json//61.json has different image name Track_A-Sphere-703.jpg\n",
      "[CRITICAL WARNING] 61 has different image name Track_A-Sphere-703...Updateing file name Please wait...\n",
      "[CRITICAL WARNING] C:/Users/Abir Khan/Desktop/PCMC/9-8_json//62.json has different image name Track_A-Sphere-704.jpg\n",
      "[CRITICAL WARNING] 62 has different image name Track_A-Sphere-704...Updateing file name Please wait...\n"
     ]
    },
    {
     "name": "stderr",
     "output_type": "stream",
     "text": [
      " 12%|█████████▋                                                                     | 170/1379 [00:29<02:31,  7.99it/s]"
     ]
    },
    {
     "name": "stdout",
     "output_type": "stream",
     "text": [
      "[CRITICAL WARNING] C:/Users/Abir Khan/Desktop/PCMC/9-8_json//63.json has different image name Track_A-Sphere-705.jpg\n",
      "[CRITICAL WARNING] 63 has different image name Track_A-Sphere-705...Updateing file name Please wait...\n",
      "[CRITICAL WARNING] C:/Users/Abir Khan/Desktop/PCMC/9-8_json//64.json has different image name Track_A-Sphere-706.jpg\n",
      "[CRITICAL WARNING] 64 has different image name Track_A-Sphere-706...Updateing file name Please wait...\n",
      "[CRITICAL WARNING] C:/Users/Abir Khan/Desktop/PCMC/9-8_json//65.json has different image name Track_A-Sphere-707.jpg\n",
      "[CRITICAL WARNING] 65 has different image name Track_A-Sphere-707...Updateing file name Please wait...\n"
     ]
    },
    {
     "name": "stderr",
     "output_type": "stream",
     "text": [
      " 13%|█████████▉                                                                     | 173/1379 [00:30<02:15,  8.90it/s]"
     ]
    },
    {
     "name": "stdout",
     "output_type": "stream",
     "text": [
      "[CRITICAL WARNING] C:/Users/Abir Khan/Desktop/PCMC/9-8_json//66.json has different image name Track_A-Sphere-877.jpg\n",
      "[CRITICAL WARNING] 66 has different image name Track_A-Sphere-877...Updateing file name Please wait...\n",
      "[CRITICAL WARNING] C:/Users/Abir Khan/Desktop/PCMC/9-8_json//67.json has different image name Track_A-Sphere-878.jpg\n",
      "[CRITICAL WARNING] 67 has different image name Track_A-Sphere-878...Updateing file name Please wait...\n"
     ]
    },
    {
     "name": "stderr",
     "output_type": "stream",
     "text": [
      "\r",
      " 13%|██████████                                                                     | 175/1379 [00:30<02:17,  8.78it/s]"
     ]
    },
    {
     "name": "stdout",
     "output_type": "stream",
     "text": [
      "[CRITICAL WARNING] C:/Users/Abir Khan/Desktop/PCMC/9-8_json//68.json has different image name Track_A-Sphere-879.jpg\n",
      "[CRITICAL WARNING] 68 has different image name Track_A-Sphere-879...Updateing file name Please wait...\n"
     ]
    },
    {
     "name": "stderr",
     "output_type": "stream",
     "text": [
      "\r",
      " 13%|██████████                                                                     | 176/1379 [00:30<03:07,  6.40it/s]"
     ]
    },
    {
     "name": "stdout",
     "output_type": "stream",
     "text": [
      "[CRITICAL WARNING] C:/Users/Abir Khan/Desktop/PCMC/9-8_json//686.json has different image name Track_L-Sphere-686.jpg\n",
      "[CRITICAL WARNING] 686 has different image name Track_L-Sphere-686...Updateing file name Please wait...\n"
     ]
    },
    {
     "name": "stderr",
     "output_type": "stream",
     "text": [
      "\r",
      " 13%|██████████▏                                                                    | 177/1379 [00:31<03:26,  5.83it/s]"
     ]
    },
    {
     "name": "stdout",
     "output_type": "stream",
     "text": [
      "[CRITICAL WARNING] C:/Users/Abir Khan/Desktop/PCMC/9-8_json//69.json has different image name Track_A-Sphere-880.jpg\n",
      "[CRITICAL WARNING] 69 has different image name Track_A-Sphere-880...Updateing file name Please wait...\n"
     ]
    },
    {
     "name": "stderr",
     "output_type": "stream",
     "text": [
      "\r",
      " 13%|██████████▎                                                                    | 179/1379 [00:31<04:38,  4.31it/s]"
     ]
    },
    {
     "name": "stdout",
     "output_type": "stream",
     "text": [
      "[CRITICAL WARNING] C:/Users/Abir Khan/Desktop/PCMC/9-8_json//70.json has different image name Track_A-Sphere-881.jpg\n",
      "[CRITICAL WARNING] 70 has different image name Track_A-Sphere-881...Updateing file name Please wait...\n"
     ]
    },
    {
     "name": "stderr",
     "output_type": "stream",
     "text": [
      "\r",
      " 13%|██████████▎                                                                    | 180/1379 [00:31<04:47,  4.17it/s]"
     ]
    },
    {
     "name": "stdout",
     "output_type": "stream",
     "text": [
      "[CRITICAL WARNING] C:/Users/Abir Khan/Desktop/PCMC/9-8_json//71.json has different image name Track_A-Sphere-882.jpg\n",
      "[CRITICAL WARNING] 71 has different image name Track_A-Sphere-882...Updateing file name Please wait...\n"
     ]
    },
    {
     "name": "stderr",
     "output_type": "stream",
     "text": [
      "\r",
      " 13%|██████████▎                                                                    | 181/1379 [00:32<07:09,  2.79it/s]"
     ]
    },
    {
     "name": "stdout",
     "output_type": "stream",
     "text": [
      "[CRITICAL WARNING] C:/Users/Abir Khan/Desktop/PCMC/9-8_json//72.json has different image name Track_A-Sphere-883.jpg\n",
      "[CRITICAL WARNING] 72 has different image name Track_A-Sphere-883...Updateing file name Please wait...\n",
      "[CRITICAL WARNING] C:/Users/Abir Khan/Desktop/PCMC/9-8_json//73.json has different image name Track_B-Sphere-280.jpg"
     ]
    },
    {
     "name": "stderr",
     "output_type": "stream",
     "text": [
      "\r",
      " 13%|██████████▍                                                                    | 182/1379 [00:32<06:01,  3.32it/s]"
     ]
    },
    {
     "name": "stdout",
     "output_type": "stream",
     "text": [
      "\n",
      "[CRITICAL WARNING] 73 has different image name Track_B-Sphere-280...Updateing file name Please wait...\n",
      "[CRITICAL WARNING] C:/Users/Abir Khan/Desktop/PCMC/9-8_json//74.json has different image name Track_B-Sphere-281.jpg\n",
      "[CRITICAL WARNING] 74 has different image name Track_B-Sphere-281...Updateing file name Please wait...\n"
     ]
    },
    {
     "name": "stderr",
     "output_type": "stream",
     "text": [
      " 13%|██████████▌                                                                    | 185/1379 [00:33<04:14,  4.69it/s]"
     ]
    },
    {
     "name": "stdout",
     "output_type": "stream",
     "text": [
      "[CRITICAL WARNING] C:/Users/Abir Khan/Desktop/PCMC/9-8_json//75.json has different image name Track_B-Sphere-282.jpg\n",
      "[CRITICAL WARNING] 75 has different image name Track_B-Sphere-282...Updateing file name Please wait...\n",
      "[CRITICAL WARNING] C:/Users/Abir Khan/Desktop/PCMC/9-8_json//76.json has different image name Track_B-Sphere-283.jpg\n",
      "[CRITICAL WARNING] 76 has different image name Track_B-Sphere-283...Updateing file name Please wait...\n"
     ]
    },
    {
     "name": "stderr",
     "output_type": "stream",
     "text": [
      "\r",
      " 13%|██████████▋                                                                    | 186/1379 [00:33<04:15,  4.67it/s]"
     ]
    },
    {
     "name": "stdout",
     "output_type": "stream",
     "text": [
      "[CRITICAL WARNING] C:/Users/Abir Khan/Desktop/PCMC/9-8_json//77.json has different image name Track_B-Sphere-284.jpg\n",
      "[CRITICAL WARNING] 77 has different image name Track_B-Sphere-284...Updateing file name Please wait...\n"
     ]
    },
    {
     "name": "stderr",
     "output_type": "stream",
     "text": [
      "\r",
      " 14%|██████████▋                                                                    | 187/1379 [00:33<05:12,  3.82it/s]"
     ]
    },
    {
     "name": "stdout",
     "output_type": "stream",
     "text": [
      "[CRITICAL WARNING] C:/Users/Abir Khan/Desktop/PCMC/9-8_json//78.json has different image name Track_B-Sphere-285.jpg\n",
      "[CRITICAL WARNING] 78 has different image name Track_B-Sphere-285...Updateing file name Please wait...\n",
      "[CRITICAL WARNING] C:/Users/Abir Khan/Desktop/PCMC/9-8_json//780.json has different image name Track_B-Sphere-780.jpg\n",
      "[CRITICAL WARNING] 780 has different image name Track_B-Sphere-780...Updateing file name Please wait...\n"
     ]
    },
    {
     "name": "stderr",
     "output_type": "stream",
     "text": [
      "\r",
      " 14%|██████████▊                                                                    | 189/1379 [00:34<03:56,  5.04it/s]"
     ]
    },
    {
     "name": "stdout",
     "output_type": "stream",
     "text": [
      "[CRITICAL WARNING] C:/Users/Abir Khan/Desktop/PCMC/9-8_json//781.json has different image name Track_B-Sphere-781.jpg\n",
      "[CRITICAL WARNING] 781 has different image name Track_B-Sphere-781...Updateing file name Please wait...\n",
      "[CRITICAL WARNING] C:/Users/Abir Khan/Desktop/PCMC/9-8_json//786.json has different image name Track_B-Sphere-786.jpg\n",
      "[CRITICAL WARNING] 786 has different image name Track_B-Sphere-786...Updateing file name Please wait...\n"
     ]
    },
    {
     "name": "stderr",
     "output_type": "stream",
     "text": [
      "\r",
      " 14%|██████████▉                                                                    | 191/1379 [00:34<03:20,  5.94it/s]"
     ]
    },
    {
     "name": "stdout",
     "output_type": "stream",
     "text": [
      "[CRITICAL WARNING] C:/Users/Abir Khan/Desktop/PCMC/9-8_json//79.json has different image name Track_B-Sphere-286.jpg\n",
      "[CRITICAL WARNING] 79 has different image name Track_B-Sphere-286...Updateing file name Please wait...\n"
     ]
    },
    {
     "name": "stderr",
     "output_type": "stream",
     "text": [
      " 14%|███████████                                                                    | 193/1379 [00:34<02:57,  6.68it/s]"
     ]
    },
    {
     "name": "stdout",
     "output_type": "stream",
     "text": [
      "[CRITICAL WARNING] C:/Users/Abir Khan/Desktop/PCMC/9-8_json//80.json has different image name Track_B-Sphere-287.jpg\n",
      "[CRITICAL WARNING] 80 has different image name Track_B-Sphere-287...Updateing file name Please wait...\n"
     ]
    },
    {
     "name": "stderr",
     "output_type": "stream",
     "text": [
      "\r",
      " 14%|███████████                                                                    | 194/1379 [00:34<03:56,  5.01it/s]"
     ]
    },
    {
     "name": "stdout",
     "output_type": "stream",
     "text": [
      "[CRITICAL WARNING] C:/Users/Abir Khan/Desktop/PCMC/9-8_json//81.json has different image name Track_B-Sphere-288.jpg\n",
      "[CRITICAL WARNING] 81 has different image name Track_B-Sphere-288...Updateing file name Please wait...\n"
     ]
    },
    {
     "name": "stderr",
     "output_type": "stream",
     "text": [
      "\r",
      " 14%|███████████▏                                                                   | 195/1379 [00:35<05:01,  3.92it/s]"
     ]
    },
    {
     "name": "stdout",
     "output_type": "stream",
     "text": [
      "[CRITICAL WARNING] C:/Users/Abir Khan/Desktop/PCMC/9-8_json//82.json has different image name Track_B-Sphere-293.jpg\n",
      "[CRITICAL WARNING] 82 has different image name Track_B-Sphere-293...Updateing file name Please wait...\n",
      "[CRITICAL WARNING] C:/Users/Abir Khan/Desktop/PCMC/9-8_json//83.json has different image name Track_B-Sphere-294.jpg\n",
      "[CRITICAL WARNING] 83 has different image name Track_B-Sphere-294...Updateing file name Please wait...\n"
     ]
    },
    {
     "name": "stderr",
     "output_type": "stream",
     "text": [
      " 14%|███████████▎                                                                   | 198/1379 [00:35<03:49,  5.14it/s]"
     ]
    },
    {
     "name": "stdout",
     "output_type": "stream",
     "text": [
      "[CRITICAL WARNING] C:/Users/Abir Khan/Desktop/PCMC/9-8_json//84.json has different image name Track_B-Sphere-310.jpg\n",
      "[CRITICAL WARNING] 84 has different image name Track_B-Sphere-310...Updateing file name Please wait...\n",
      "[CRITICAL WARNING] C:/Users/Abir Khan/Desktop/PCMC/9-8_json//85.json has different image name Track_B-Sphere-312.jpg\n",
      "[CRITICAL WARNING] 85 has different image name Track_B-Sphere-312...Updateing file name Please wait...\n"
     ]
    },
    {
     "name": "stderr",
     "output_type": "stream",
     "text": [
      "\r",
      " 14%|███████████▍                                                                   | 199/1379 [00:36<03:47,  5.19it/s]"
     ]
    },
    {
     "name": "stdout",
     "output_type": "stream",
     "text": [
      "[CRITICAL WARNING] C:/Users/Abir Khan/Desktop/PCMC/9-8_json//86.json has different image name Track_B-Sphere-315.jpg\n",
      "[CRITICAL WARNING] 86 has different image name Track_B-Sphere-315...Updateing file name Please wait...\n"
     ]
    },
    {
     "name": "stderr",
     "output_type": "stream",
     "text": [
      "\r",
      " 15%|███████████▍                                                                   | 200/1379 [00:36<03:53,  5.04it/s]"
     ]
    },
    {
     "name": "stdout",
     "output_type": "stream",
     "text": [
      "[CRITICAL WARNING] C:/Users/Abir Khan/Desktop/PCMC/9-8_json//87.json has different image name Track_B-Sphere-316.jpg\n",
      "[CRITICAL WARNING] 87 has different image name Track_B-Sphere-316...Updateing file name Please wait...\n",
      "[CRITICAL WARNING] C:/Users/Abir Khan/Desktop/PCMC/9-8_json//88.json has different image name Track_B-Sphere-333.jpg\n"
     ]
    },
    {
     "name": "stderr",
     "output_type": "stream",
     "text": [
      "\r",
      " 15%|███████████▌                                                                   | 201/1379 [00:36<03:55,  5.00it/s]"
     ]
    },
    {
     "name": "stdout",
     "output_type": "stream",
     "text": [
      "[CRITICAL WARNING] 88 has different image name Track_B-Sphere-333...Updateing file name Please wait...\n",
      "[CRITICAL WARNING] C:/Users/Abir Khan/Desktop/PCMC/9-8_json//89.json has different image name Track_B-Sphere-334.jpg\n",
      "[CRITICAL WARNING] 89 has different image name Track_B-Sphere-334...Updateing file name Please wait...\n"
     ]
    },
    {
     "name": "stderr",
     "output_type": "stream",
     "text": [
      " 15%|███████████▋                                                                   | 204/1379 [00:36<03:09,  6.19it/s]"
     ]
    },
    {
     "name": "stdout",
     "output_type": "stream",
     "text": [
      "[CRITICAL WARNING] C:/Users/Abir Khan/Desktop/PCMC/9-8_json//90.json has different image name Track_B-Sphere-335.jpg\n",
      "[CRITICAL WARNING] 90 has different image name Track_B-Sphere-335...Updateing file name Please wait...\n",
      "[CRITICAL WARNING] C:/Users/Abir Khan/Desktop/PCMC/9-8_json//91.json has different image name Track_B-Sphere-336.jpg\n",
      "[CRITICAL WARNING] 91 has different image name Track_B-Sphere-336...Updateing file name Please wait...\n"
     ]
    },
    {
     "name": "stderr",
     "output_type": "stream",
     "text": [
      " 15%|███████████▊                                                                   | 206/1379 [00:37<02:57,  6.62it/s]"
     ]
    },
    {
     "name": "stdout",
     "output_type": "stream",
     "text": [
      "[CRITICAL WARNING] C:/Users/Abir Khan/Desktop/PCMC/9-8_json//92.json has different image name Track_B-Sphere-337.jpg\n",
      "[CRITICAL WARNING] 92 has different image name Track_B-Sphere-337...Updateing file name Please wait...\n",
      "[CRITICAL WARNING] C:/Users/Abir Khan/Desktop/PCMC/9-8_json//93.json has different image name Track_B-Sphere-338.jpg\n",
      "[CRITICAL WARNING] 93 has different image name Track_B-Sphere-338...Updateing file name Please wait...\n"
     ]
    },
    {
     "name": "stderr",
     "output_type": "stream",
     "text": [
      " 15%|███████████▉                                                                   | 208/1379 [00:37<03:53,  5.01it/s]"
     ]
    },
    {
     "name": "stdout",
     "output_type": "stream",
     "text": [
      "[CRITICAL WARNING] C:/Users/Abir Khan/Desktop/PCMC/9-8_json//94.json has different image name Track_B-Sphere-339.jpg\n",
      "[CRITICAL WARNING] 94 has different image name Track_B-Sphere-339...Updateing file name Please wait...\n",
      "[CRITICAL WARNING] C:/Users/Abir Khan/Desktop/PCMC/9-8_json//95.json has different image name Track_B-Sphere-774.jpg\n",
      "[CRITICAL WARNING] 95 has different image name Track_B-Sphere-774...Updateing file name Please wait...\n"
     ]
    },
    {
     "name": "stderr",
     "output_type": "stream",
     "text": [
      " 15%|████████████                                                                   | 210/1379 [00:38<03:27,  5.64it/s]"
     ]
    },
    {
     "name": "stdout",
     "output_type": "stream",
     "text": [
      "[CRITICAL WARNING] C:/Users/Abir Khan/Desktop/PCMC/9-8_json//96.json has different image name Track_B-Sphere-775.jpg\n",
      "[CRITICAL WARNING] 96 has different image name Track_B-Sphere-775...Updateing file name Please wait...\n",
      "[CRITICAL WARNING] C:/Users/Abir Khan/Desktop/PCMC/9-8_json//97.json has different image name Track_B-Sphere-776.jpg\n",
      "[CRITICAL WARNING] 97 has different image name Track_B-Sphere-776...Updateing file name Please wait...\n"
     ]
    },
    {
     "name": "stderr",
     "output_type": "stream",
     "text": [
      " 15%|████████████▏                                                                  | 212/1379 [00:38<03:10,  6.14it/s]"
     ]
    },
    {
     "name": "stdout",
     "output_type": "stream",
     "text": [
      "[CRITICAL WARNING] C:/Users/Abir Khan/Desktop/PCMC/9-8_json//98.json has different image name Track_B-Sphere-777.jpg\n",
      "[CRITICAL WARNING] 98 has different image name Track_B-Sphere-777...Updateing file name Please wait...\n",
      "[CRITICAL WARNING] C:/Users/Abir Khan/Desktop/PCMC/9-8_json//99.json has different image name Track_B-Sphere-778.jpg\n",
      "[CRITICAL WARNING] 99 has different image name Track_B-Sphere-778...Updateing file name Please wait...\n"
     ]
    },
    {
     "name": "stderr",
     "output_type": "stream",
     "text": [
      " 40%|███████████████████████████████▋                                               | 553/1379 [01:44<02:47,  4.94it/s]"
     ]
    },
    {
     "name": "stdout",
     "output_type": "stream",
     "text": [
      "[CRITICAL WARNING] C:/Users/Abir Khan/Desktop/PCMC/9-8_json//Track_B-Sphere-64.json has different image name Track_A-Sphere-520.jpg\n",
      "[CRITICAL WARNING] Track_B-Sphere-64 has different image name Track_A-Sphere-520...Updateing file name Please wait...\n"
     ]
    },
    {
     "name": "stderr",
     "output_type": "stream",
     "text": [
      "100%|██████████████████████████████████████████████████████████████████████████████| 1379/1379 [04:42<00:00,  4.87it/s]\n"
     ]
    }
   ],
   "source": [
    "\n",
    "import os, json\n",
    "from tqdm import tqdm\n",
    "import itertools \n",
    "\n",
    "# #dir_names = ['train', 'test']\n",
    "# dir_names = ['all_jsons']\n",
    "dir_names = ['C:/Users/Abir Khan/Desktop/PCMC/9-8_json/']\n",
    "ext = 'json'\n",
    "\n",
    "def json_path_to_dic(json_path):\n",
    "    dic = None\n",
    "    with open(json_path, 'rb') as fp:\n",
    "        dic = json.load(fp)\n",
    "    return dic\n",
    "\n",
    "\n",
    "def dic_to_json_file(json_dic, json_path):\n",
    "    with open(json_path, 'w') as fp:\n",
    "        json.dump(json_dic, fp, indent=4)\n",
    "\n",
    "def get_thing_class_distribution(dic, thing_class_counts):\n",
    "    \n",
    "    for shape_dic in dic['shapes']:\n",
    "        if shape_dic['label'] not in thing_class_counts:\n",
    "            thing_class_counts[shape_dic['label']] = 0\n",
    "        thing_class_counts[shape_dic['label']] += 1\n",
    "\n",
    "    return thing_class_counts\n",
    "\n",
    "def compare_json_and_img_name(img_file_name, json_file_name, json_path):\n",
    "    json_name = json_file_name.split('.')[0]\n",
    "    img_name = img_file_name.split('.')[0]\n",
    "\n",
    "    if json_name != img_name:\n",
    "        print(f\"[CRITICAL WARNING] {json_path} has different image name {img_file_name}\")\n",
    "    \n",
    "def update_json_imagepath(json_dic, json_file_name):\n",
    "    json_name = json_file_name.split('.')[0]\n",
    "    img_name = json_dic['imagePath'].split('.')[0]\n",
    "    ext = json_dic['imagePath'].split('.')[1]\n",
    "\n",
    "    if json_name != img_name:\n",
    "        json_dic['imagePath'] = json_name+'.'+ext\n",
    "\n",
    "        print(f\"[CRITICAL WARNING] {json_name} has different image name {img_name}...Updateing file name Please wait...\")\n",
    "    return json_dic\n",
    "\n",
    "\n",
    "\n",
    "thing_class_distribution = {}\n",
    "for dir_name in dir_names:\n",
    "\n",
    "    print(f'working on {dir_name} dir ...')\n",
    "    for json_file_name in tqdm([f for f in os.listdir(dir_name) if f.split('.')[-1].lower() == ext.lower()]):\n",
    "        try:\n",
    "            path = f'{dir_name}/{json_file_name}'\n",
    "            json_dic = json_path_to_dic(path)\n",
    "\n",
    "            thing_class_distribution = get_thing_class_distribution(\n",
    "                dic=json_dic, \n",
    "                thing_class_counts=thing_class_distribution)\n",
    "\n",
    "            compare_json_and_img_name(\n",
    "                img_file_name=json_dic['imagePath'], \n",
    "                json_file_name=json_file_name,\n",
    "                json_path=path\n",
    "                )\n",
    "            \n",
    "            updated_json_dic = update_json_imagepath(\n",
    "                json_dic = json_dic,\n",
    "                json_file_name=json_file_name,\n",
    "                )\n",
    "\n",
    "            dic_to_json_file(updated_json_dic, path)\n",
    "\n",
    "        except Exception as E:\n",
    "            print (\"#\"*80)\n",
    "            print (json_file_name)\n",
    "            print (E)\n",
    "            print (\"#\"*80)\n",
    "            \n"
   ]
  },
  {
   "cell_type": "code",
   "execution_count": 11,
   "metadata": {},
   "outputs": [
    {
     "name": "stdout",
     "output_type": "stream",
     "text": [
      "garbage_bins : 129\n",
      "hoardings : 129\n",
      "transformer : 224\n",
      "traffic_sign : 411\n",
      "bus_stops : 414\n",
      "fire_hydrants : 425\n",
      "traffic_signal : 448\n",
      "electrical_pole : 505\n",
      "strom_water_vent : 599\n",
      "manhole_circular : 657\n",
      "feeder_pillar : 680\n",
      "footpath_gate : 882\n",
      "manhole_rectangular : 1020\n",
      "street_light : 1673\n",
      "trees : 2209\n"
     ]
    }
   ],
   "source": [
    "# sorted\n",
    "sorted_classes = sorted(thing_class_distribution, key=thing_class_distribution.get)\n",
    "for k in sorted_classes:\n",
    "    print(k, ':' ,thing_class_distribution[k])"
   ]
  },
  {
   "cell_type": "code",
   "execution_count": 12,
   "metadata": {},
   "outputs": [
    {
     "data": {
      "text/plain": [
       "15"
      ]
     },
     "execution_count": 12,
     "metadata": {},
     "output_type": "execute_result"
    }
   ],
   "source": [
    "len(sorted_classes)"
   ]
  },
  {
   "cell_type": "code",
   "execution_count": 4,
   "metadata": {},
   "outputs": [
    {
     "data": {
      "text/plain": [
       "['garbage_bins',\n",
       " 'hoardings',\n",
       " 'transformer',\n",
       " 'traffic_sign',\n",
       " 'bus_stops',\n",
       " 'fire_hydrants',\n",
       " 'traffic_signal',\n",
       " 'electrical_pole',\n",
       " 'strom_water_vent',\n",
       " 'manhole_circular',\n",
       " 'feeder_pillar',\n",
       " 'footpath_gate',\n",
       " 'manhole_rectangular',\n",
       " 'street_light',\n",
       " 'trees']"
      ]
     },
     "execution_count": 4,
     "metadata": {},
     "output_type": "execute_result"
    }
   ],
   "source": [
    "sorted_classes"
   ]
  }
 ],
 "metadata": {
  "kernelspec": {
   "display_name": "Python 3",
   "language": "python",
   "name": "python3"
  },
  "language_info": {
   "codemirror_mode": {
    "name": "ipython",
    "version": 3
   },
   "file_extension": ".py",
   "mimetype": "text/x-python",
   "name": "python",
   "nbconvert_exporter": "python",
   "pygments_lexer": "ipython3",
   "version": "3.6.8"
  }
 },
 "nbformat": 4,
 "nbformat_minor": 2
}
