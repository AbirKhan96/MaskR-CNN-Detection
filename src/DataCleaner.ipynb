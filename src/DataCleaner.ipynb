{
 "cells": [
  {
   "cell_type": "code",
   "execution_count": 1,
   "metadata": {},
   "outputs": [],
   "source": [
    "# !pip install tqdm"
   ]
  },
  {
   "cell_type": "code",
   "execution_count": 2,
   "metadata": {},
   "outputs": [
    {
     "name": "stderr",
     "output_type": "stream",
     "text": [
      "  3%|▎         | 1/34 [00:00<00:04,  7.34it/s]"
     ]
    },
    {
     "name": "stdout",
     "output_type": "stream",
     "text": [
      "working on /home/itd/Desktop/Delivery_jaipur/src/store/data/Allowed_Classes/all_jsons dir ...\n"
     ]
    },
    {
     "name": "stderr",
     "output_type": "stream",
     "text": [
      "100%|██████████| 34/34 [00:03<00:00,  8.92it/s]\n"
     ]
    }
   ],
   "source": [
    "import os, json\n",
    "from tqdm import tqdm\n",
    "import itertools \n",
    "\n",
    "# #dir_names = ['train', 'test']\n",
    "# dir_names = ['all_jsons']\n",
    "dir_names = ['/home/itd/Desktop/Delivery_jaipur/src/store/data/Allowed_Classes/all_jsons']\n",
    "ext = 'json'\n",
    "\n",
    "def json_path_to_dic(json_path):\n",
    "    dic = None\n",
    "    with open(json_path, 'rb') as fp:\n",
    "        dic = json.load(fp)\n",
    "    return dic\n",
    "\n",
    "\n",
    "def get_thing_class_distribution(dic, thing_class_counts):\n",
    "    \n",
    "    for shape_dic in dic['shapes']:\n",
    "        if shape_dic['label'] not in thing_class_counts:\n",
    "            thing_class_counts[shape_dic['label']] = 0\n",
    "        thing_class_counts[shape_dic['label']] += 1\n",
    "\n",
    "    return thing_class_counts\n",
    "\n",
    "def compare_json_and_img_name(img_file_name, json_file_name, json_path):\n",
    "    json_name = json_file_name.split('.')[0]\n",
    "    img_name = img_file_name.split('.')[0]\n",
    "\n",
    "    if json_name != img_name:\n",
    "        print(f\"[CRITICAL WARNING] {json_path} has different image name {img_file_name}\")\n",
    "    \n",
    "\n",
    "\n",
    "thing_class_distribution = {}\n",
    "for dir_name in dir_names:\n",
    "\n",
    "    print(f'working on {dir_name} dir ...')\n",
    "    for json_file_name in tqdm([f for f in os.listdir(dir_name) if f.split('.')[-1].lower() == ext.lower()]):\n",
    "        try:\n",
    "            path = f'{dir_name}/{json_file_name}'\n",
    "            json_dic = json_path_to_dic(path)\n",
    "\n",
    "            thing_class_distribution = get_thing_class_distribution(\n",
    "                dic=json_dic, \n",
    "                thing_class_counts=thing_class_distribution)\n",
    "\n",
    "            compare_json_and_img_name(\n",
    "                img_file_name=json_dic['imagePath'], \n",
    "                json_file_name=json_file_name,\n",
    "                json_path=path\n",
    "                )\n",
    "        except Exception as E:\n",
    "            print (\"#\"*80)\n",
    "            print (json_file_name)\n",
    "            print (E)\n",
    "            print (\"#\"*80)\n",
    "            "
   ]
  },
  {
   "cell_type": "code",
   "execution_count": 3,
   "metadata": {},
   "outputs": [
    {
     "name": "stdout",
     "output_type": "stream",
     "text": [
      "Sign Board_SB170 : 1\n",
      "Tree_Deciduous : 3\n",
      "Zebra_Crossing : 8\n",
      "CCTV Camera_PC535 : 13\n",
      "Bollard_BO67 : 30\n",
      "Traffic Signal Light_TR10 : 31\n",
      "Garbage bin_GA03 : 37\n",
      "Tree Guard_TG_1 : 37\n",
      "Street Light_LI240 : 96\n"
     ]
    }
   ],
   "source": [
    "# sorted\n",
    "sorted_classes = sorted(thing_class_distribution, key=thing_class_distribution.get)\n",
    "for k in sorted_classes:\n",
    "    print(k, ':' ,thing_class_distribution[k])"
   ]
  },
  {
   "cell_type": "code",
   "execution_count": 4,
   "metadata": {},
   "outputs": [
    {
     "data": {
      "text/plain": [
       "9"
      ]
     },
     "execution_count": 4,
     "metadata": {},
     "output_type": "execute_result"
    }
   ],
   "source": [
    "len(sorted_classes)"
   ]
  },
  {
   "cell_type": "code",
   "execution_count": 5,
   "metadata": {},
   "outputs": [
    {
     "data": {
      "text/plain": [
       "['Sign Board_SB170',\n",
       " 'Tree_Deciduous',\n",
       " 'Zebra_Crossing',\n",
       " 'CCTV Camera_PC535',\n",
       " 'Bollard_BO67',\n",
       " 'Traffic Signal Light_TR10',\n",
       " 'Garbage bin_GA03',\n",
       " 'Tree Guard_TG_1',\n",
       " 'Street Light_LI240']"
      ]
     },
     "execution_count": 5,
     "metadata": {},
     "output_type": "execute_result"
    }
   ],
   "source": [
    "sorted_classes"
   ]
  },
  {
   "cell_type": "code",
   "execution_count": null,
   "metadata": {},
   "outputs": [],
   "source": []
  },
  {
   "cell_type": "code",
   "execution_count": null,
   "metadata": {},
   "outputs": [],
   "source": []
  },
  {
   "cell_type": "code",
   "execution_count": null,
   "metadata": {},
   "outputs": [],
   "source": []
  },
  {
   "cell_type": "code",
   "execution_count": null,
   "metadata": {},
   "outputs": [],
   "source": []
  }
 ],
 "metadata": {
  "kernelspec": {
   "display_name": "Python 3",
   "language": "python",
   "name": "python3"
  },
  "language_info": {
   "codemirror_mode": {
    "name": "ipython",
    "version": 3
   },
   "file_extension": ".py",
   "mimetype": "text/x-python",
   "name": "python",
   "nbconvert_exporter": "python",
   "pygments_lexer": "ipython3",
   "version": "3.6.9"
  }
 },
 "nbformat": 4,
 "nbformat_minor": 2
}
